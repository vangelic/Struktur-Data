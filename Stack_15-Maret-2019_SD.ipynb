{
 "cells": [
  {
   "cell_type": "markdown",
   "metadata": {
    "collapsed": false
   },
   "source": [
    "## **CLASS**\n",
    "class : type data berupa value dan method \n",
    "objek : variabel type data class\n",
    "state/property : bagian class yang mempunyai nilai\n",
    "method : fungsi yang melekat pada class\n",
    "\n",
    "inisialisasi dalam class disebut instansiasi\n",
    "method dalam class adalah def/fungsi\n",
    "overide function: mendefinisikan\n",
    "data=BilanganKompleks(4,6)\n",
    "       ^\n",
    "       |\n",
    "memanggil konstraktor\n",
    "konstraktor (def __init__(self,a,b):\n",
    "self.real=a\n",
    "self.imajiner=b\n",
    "--------------\n",
    "data.(tap)\n",
    "output : \n",
    "self.real\n",
    "self.imajiner\n",
    "---------------\n",
    "data=BilanganKompleks(4,6)\n",
    "print (data.real)\n",
    "output :\n",
    "4\n",
    "-----------------------------\n",
    "class bisa tanpa parameter\n",
    "data=BilangKom()\n",
    "data.setdata(5,7)\n",
    "-----------------------------\n",
    "\n",
    "class BilanganKompleks:\n",
    "def setData(self,a,b):\n",
    "-------------------------------\n",
    "fungsi yg mengubah ke str nama methodnya\n",
    "def __str__(*apa yg ingin diubah menjadi string*):"
   ]
  },
  {
   "cell_type": "code",
   "execution_count": 0,
   "metadata": {
    "collapsed": false
   },
   "outputs": [
   ],
   "source": [
    "class BilanganKompleks:\n",
    "    def __init__(self,a,b):\n",
    "        self.r=a\n",
    "        self.i=b\n",
    "    def addNumber(self,op1,op2):\n",
    "        self.r=op1.r+op2.r\n",
    "        self.i=op1.i+op2.i\n",
    "    def addNum(self,num):\n",
    "        a=self.r+num.r\n",
    "        b=self.i+num.i\n",
    "        return BilanganKompleks(a,b)\n",
    "    def mulNum(self,num):\n",
    "        a=(self.r*num.r)-(self.i*num.i)\n",
    "        b=(self.r*num.i)+(self.i*num.r)\n",
    "        return BilanganKompleks(a,b)\n",
    "    def display (self):\n",
    "        print(self.r,\"+\",self.i,\"i\",\"+\",self.r,\"+\",self.i,\"i\")\n",
    "    def __add__(self,num):\n",
    "        a=self.r+num.r\n",
    "        b=self.i+num.i\n",
    "        return BilanganKompleks(a,b)\n",
    "    def __str__(self):\n",
    "        return (str(self.r)+\"+\"+str(self.i)+\"i\")\n",
    "    def __mul__(self,num):\n",
    "        a=(self.r*num.r)-(self.i*num.i)\n",
    "        b=(self.r*num.i)+(self.i*num.r)\n",
    "        return BilanganKompleks(a,b)\n",
    "\n",
    "bil1=BilanganKompleks(2,3)\n",
    "bil2=BilanganKompleks(5,4)\n",
    "print(bil1*bil2)"
   ]
  }
 ],
 "metadata": {
  "kernelspec": {
   "display_name": "Python 3 (Ubuntu Linux)",
   "language": "python",
   "name": "python3"
  },
  "language_info": {
   "codemirror_mode": {
    "name": "ipython",
    "version": 3
   },
   "file_extension": ".py",
   "mimetype": "text/x-python",
   "name": "python",
   "nbconvert_exporter": "python",
   "pygments_lexer": "ipython3",
   "version": "3.6.7"
  }
 },
 "nbformat": 4,
 "nbformat_minor": 0
}