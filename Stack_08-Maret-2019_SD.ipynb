{
 "cells": [
  {
   "cell_type": "markdown",
   "metadata": {
    "collapsed": false
   },
   "source": [
    "# **STACK_02**"
   ]
  },
  {
   "cell_type": "code",
   "execution_count": 0,
   "metadata": {
    "collapsed": false
   },
   "outputs": [
   ],
   "source": [
    "def stack():\n",
    "    s=[]\n",
    "    return (s)\n",
    "\n",
    "def push(s,data):\n",
    "    s.append(data)\n",
    "    \n",
    "def pop(s):\n",
    "    data=s.pop()\n",
    "    return (data)\n",
    "\n",
    "def peek(s):\n",
    "    return (s[len(s)-1])\n",
    "\n",
    "def isEmpty(s):\n",
    "    return (s==[])\n",
    "\n",
    "def size(s):\n",
    "    return (len(s))"
   ]
  },
  {
   "cell_type": "markdown",
   "metadata": {
    "collapsed": false
   },
   "source": [
    "### **Konverter Okta Desimal**"
   ]
  },
  {
   "cell_type": "code",
   "execution_count": 0,
   "metadata": {
    "collapsed": false
   },
   "outputs": [
   ],
   "source": [
    "def oktaDec(angka):\n",
    "    hsl=stack()\n",
    "    hasil=\"\"\n",
    "    if angka<8:\n",
    "        hasil=str(angka)\n",
    "    else:\n",
    "        while angka>0:\n",
    "            push(hsl,angka%8)\n",
    "            angka=angka//8\n",
    "        while not(isEmpty(hsl)):\n",
    "            hasil=hasil+str(pop(hsl))\n",
    "    return (hasil)\n",
    "\n",
    "bil=int(input(\"Masukkan angka :\"))\n",
    "print(bil,\"->\",oktaDec(bil))"
   ]
  },
  {
   "cell_type": "markdown",
   "metadata": {
    "collapsed": false
   },
   "source": [
    "## **Ekspresi Aritmatik Infix, Prefix, Postfix**\n",
    "\n",
    "Infix   : operan diantara 2 bilangan (A+B)\n",
    "Prefix  : operan didepan 2 bilangan (+AB)\n",
    "Postfix : operan dibelakang 2 bilangan (AB+)"
   ]
  },
  {
   "cell_type": "markdown",
   "metadata": {
    "collapsed": false
   },
   "source": [
    "### **Postfix**"
   ]
  },
  {
   "cell_type": "code",
   "execution_count": 0,
   "metadata": {
    "collapsed": false
   },
   "outputs": [
   ],
   "source": [
    "def PostFix(opr):\n",
    "    highPre=\"*/\"\n",
    "    lowPre=\"+-\"\n",
    "    operator=highPre+lowPre\n",
    "    hsl=\"\"\n",
    "    st=stack()\n",
    "\n",
    "    for x in (opr):\n",
    "        if x in lowPre:\n",
    "            if isEmpty(st):\n",
    "                push(st,x)\n",
    "            else:\n",
    "                temp=peek(st)\n",
    "                while (temp in operator) and not(isEmpty(st)):\n",
    "                    hsl=hsl+pop(st)\n",
    "                push(st,x)\n",
    "        elif x in highPre:\n",
    "            if isEmpty(st):\n",
    "                push(st,x)\n",
    "            else:\n",
    "                temp=peek(st)\n",
    "                while not(isEmpty(st)) and (temp in highPre):\n",
    "                    hsl=hsl+pop(st)\n",
    "                push(st,x)\n",
    "        elif x==\"(\":\n",
    "            push(st,x)\n",
    "        elif x==\")\":\n",
    "            while not(isEmpty(st)) and peek(st)!=\"(\":\n",
    "                 hsl=hsl+pop(st)\n",
    "            pop(st)\n",
    "        else:\n",
    "            hsl=hsl+str(x)\n",
    "    while not(isEmpty(st)):\n",
    "        hsl=hsl+pop(st)\n",
    "    return (hsl)\n",
    "\n",
    "operasi=str(input(\"Masukkan Operasi bilangannya :\"))\n",
    "print(\"Postfix dari operasi bilangan \",operasi,\"=>\",PostFix(operasi))"
   ]
  },
  {
   "cell_type": "markdown",
   "metadata": {
    "collapsed": false
   },
   "source": [
    "### **Hitung Nilai Postfix**"
   ]
  },
  {
   "cell_type": "code",
   "execution_count": 0,
   "metadata": {
    "collapsed": false
   },
   "outputs": [
   ],
   "source": [
    "def hitungPostFix(postF):\n",
    "    hsl=0\n",
    "    st=stack()\n",
    "    temp=0\n",
    "    for i in postF:\n",
    "        if i==\"+\":\n",
    "            if size(st)>1:\n",
    "                hsl=int(pop(st))+int(pop(st))\n",
    "                push(st,hsl)\n",
    "            else:\n",
    "                return (\"Postfix salah\")\n",
    "        elif i==\"-\":\n",
    "            if size(st)>1:\n",
    "                temp=int(pop(st))\n",
    "                hsl=int(pop(st))-temp\n",
    "                push(st,hsl)\n",
    "            else:\n",
    "                return (\"Postfix salah\")\n",
    "        elif i==\"*\":\n",
    "            if size(st)>1:\n",
    "                hsl=int(pop(st))*int(pop(st))\n",
    "                push(st,hsl)\n",
    "            else:\n",
    "                return (\"Postfix salah\")\n",
    "        elif i==\"/\":\n",
    "            if size(st)>1:\n",
    "                temp=int(pop(st))\n",
    "                hsl=int(pop(st))/temp\n",
    "                push(st,hsl)\n",
    "            else:\n",
    "                return (\"Postfix salah\")\n",
    "        else:\n",
    "            push(st,i)\n",
    "    return (pop(st))\n",
    "\n",
    "operasi=str(input(\"Masukkan Operasi Postfix (angka) :\"))\n",
    "print(operasi,\"=>\",hitungPostFix(operasi))"
   ]
  }
 ],
 "metadata": {
  "kernelspec": {
   "display_name": "Python 3 (Ubuntu Linux)",
   "language": "python",
   "name": "python3"
  },
  "language_info": {
   "codemirror_mode": {
    "name": "ipython",
    "version": 3
   },
   "file_extension": ".py",
   "mimetype": "text/x-python",
   "name": "python",
   "nbconvert_exporter": "python",
   "pygments_lexer": "ipython3",
   "version": "3.6.7"
  }
 },
 "nbformat": 4,
 "nbformat_minor": 0
}