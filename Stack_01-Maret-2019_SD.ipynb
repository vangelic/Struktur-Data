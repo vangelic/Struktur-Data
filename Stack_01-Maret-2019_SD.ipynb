{
 "cells": [
  {
   "cell_type": "markdown",
   "metadata": {
    "collapsed": false
   },
   "source": [
    "**JENIS STRUKTUR DATA**\n",
    "Linear Structure :\n",
    "    - Stacks\n",
    "    - Queus\n",
    "    - List"
   ]
  },
  {
   "cell_type": "markdown",
   "metadata": {
    "collapsed": false
   },
   "source": [
    "## **STACK**\n",
    "\n",
    "Stack : tumpukan -> cara kerja Last In First Out (LIFO)\n",
    "\n",
    "stack()    -> inisialisasi stack kosong\n",
    "push(data) -> untuk menambah data **memiliki parameter**\n",
    "pop()      -> penghapusan data *return value: data yang dihapus*\n",
    "peek()     -> informasi data yang terletak pada posisi top(teratas)\n",
    "isEmpty()  -> untuk memeriksa stack kosong/tidak (bernilai *boolean*)\n",
    "size()     -> informasi jumlah data yang terdapat pada stack"
   ]
  },
  {
   "cell_type": "markdown",
   "metadata": {
    "collapsed": false
   },
   "source": [
    "### *NOTE:*\n",
    "Membuat catatan di cocalc setiap 3x pertemuan diupload di **GITHUB** (mengumpulkan link github)"
   ]
  },
  {
   "cell_type": "code",
   "execution_count": 0,
   "metadata": {
    "collapsed": false
   },
   "outputs": [
   ],
   "source": [
    "def stack():\n",
    "    s=[]\n",
    "    return (s)\n",
    "\n",
    "def push(s,data):\n",
    "    s.append(data)\n",
    "    \n",
    "def pop(s):\n",
    "    data=s.pop()\n",
    "    return (data)\n",
    "\n",
    "def peek(s):\n",
    "    return (s[len(s)-1])\n",
    "\n",
    "def isEmpty(s):\n",
    "    return (s==[])\n",
    "\n",
    "def size(s):\n",
    "    return (len(s))"
   ]
  },
  {
   "cell_type": "markdown",
   "metadata": {
    "collapsed": false
   },
   "source": [
    "## **Balik Kata**"
   ]
  },
  {
   "cell_type": "code",
   "execution_count": 0,
   "metadata": {
    "collapsed": false
   },
   "outputs": [
   ],
   "source": [
    "def balik(teks):\n",
    "    kt=stack()\n",
    "    hsl=\"\"\n",
    "    for i in range(len(teks)):\n",
    "        push(kt,teks[i])\n",
    "    for i in range (size(kt)):\n",
    "        hsl=hsl+pop(kt)\n",
    "    return hsl\n",
    "\n",
    "kata=str(input(\"Masukkan kata yang diinginkan :\"))\n",
    "print(kata,\"=>\",balik(kata))"
   ]
  },
  {
   "cell_type": "markdown",
   "metadata": {
    "collapsed": false
   },
   "source": [
    "## **Konversi Biner**"
   ]
  },
  {
   "cell_type": "code",
   "execution_count": 0,
   "metadata": {
    "collapsed": false
   },
   "outputs": [
   ],
   "source": [
    "def BineRy(angka):\n",
    "    biner=stack()\n",
    "    hsl=\"\"\n",
    "    temp=0\n",
    "    while angka>0:\n",
    "        temp=angka%2\n",
    "        push(biner,temp)\n",
    "        angka=angka//2\n",
    "    while not(isEmpty(biner)):\n",
    "        hsl=hsl+str(pop(biner))\n",
    "    return (hsl)\n",
    "\n",
    "a=int(input(\"Masukkan angka :\"))\n",
    "print(a,\"=\",BineRy(a))"
   ]
  },
  {
   "cell_type": "markdown",
   "metadata": {
    "collapsed": false
   },
   "source": [
    "### Latihan 1"
   ]
  },
  {
   "cell_type": "code",
   "execution_count": 0,
   "metadata": {
    "collapsed": false
   },
   "outputs": [
   ],
   "source": [
    "def cek(teks):\n",
    "    st=stack()\n",
    "    for i in (teks):\n",
    "        if (i==\"(\"):\n",
    "            push(st,i)\n",
    "        elif (i==\")\") and (not(isEmpty(st))):\n",
    "            pop(st)\n",
    "        elif (i==\")\") and (isEmpty(st)):\n",
    "            push(st,i)\n",
    "    return (isEmpty(st))\n",
    "\n",
    "operasi=str(input(\"Masukan operasi bilangan:\"))\n",
    "print(cek(operasi))"
   ]
  }
 ],
 "metadata": {
  "kernelspec": {
   "display_name": "Python 3 (Ubuntu Linux)",
   "language": "python",
   "name": "python3"
  },
  "language_info": {
   "codemirror_mode": {
    "name": "ipython",
    "version": 3
   },
   "file_extension": ".py",
   "mimetype": "text/x-python",
   "name": "python",
   "nbconvert_exporter": "python",
   "pygments_lexer": "ipython3",
   "version": "3.6.7"
  }
 },
 "nbformat": 4,
 "nbformat_minor": 0
}