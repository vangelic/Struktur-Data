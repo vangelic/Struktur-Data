{
 "cells": [
  {
   "cell_type": "markdown",
   "metadata": {
    "collapsed": false
   },
   "source": [
    "## **LINKED LIST**\n",
    "berfungsi untuk menambah data\n",
    "### 1. Node\n",
    "    node merupakan komponen utama dalam linked list\n",
    "informasi yg menunjuk pada lokasi data pertama (head of the list)\n",
    "untuk membuat struktur data linked list, terlebih dahulu membuat node-node nya\n",
    "\n",
    "syarat node :\n",
    "harus memiliki datanya/nilai dan pointer atau petunjuk ke node berikutnya\n",
    "\n",
    "constructor, yang akan dijalankan setiap instansiasi class\n",
    "getData, mengetahui informasi data yg terdapat pd node \n",
    "getNext, untuk mengetahui \n",
    "setData, mengubah informasi data yg terdapat pd data tersebut"
   ]
  },
  {
   "cell_type": "code",
   "execution_count": 0,
   "metadata": {
    "collapsed": false
   },
   "outputs": [
   ],
   "source": [
    "class Node:\n",
    "    def __init__(self,init_data):\n",
    "        self.data=init_data\n",
    "        self.next=None\n",
    "\n",
    "    def getData(self):\n",
    "        return self.data\n",
    "\n",
    "    def getNext(self):\n",
    "        return self.next\n",
    "\n",
    "    def setData(self, newData):\n",
    "        self.data=newData\n",
    "\n",
    "    def setNext(self, new_next):\n",
    "        self.next=new_next"
   ]
  },
  {
   "cell_type": "code",
   "execution_count": 0,
   "metadata": {
    "collapsed": false
   },
   "outputs": [
   ],
   "source": [
    "a=Node(93)\n",
    "b=Node(20)\n",
    "print(a.setNext(b))\n",
    "print(a.getNext().getData())"
   ]
  },
  {
   "cell_type": "markdown",
   "metadata": {
    "collapsed": false
   },
   "source": [
    "## Linked List Class\n",
    "kumpulan dari node2 yg terhubung\n",
    "link pertama dari list (head)\n",
    "constructor __init__\n",
    "Method isEmpty"
   ]
  },
  {
   "cell_type": "code",
   "execution_count": 0,
   "metadata": {
    "collapsed": false
   },
   "outputs": [
   ],
   "source": [
    "class LinkedList:\n",
    "    def __init__(self):\n",
    "        self.head=None\n",
    "        \n",
    "    def isEmpty(self):\n",
    "        return self.head==None\n",
    "    \n",
    "    def add(self,item):\n",
    "        temp=Node(item)\n",
    "        temp.setNext(self.head)\n",
    "        self.head=temp\n",
    "        \n",
    "    def size(self):\n",
    "        current=self.head\n",
    "        count=0\n",
    "        while current != None:\n",
    "            count = count + 1\n",
    "            current = current.getNext()\n",
    "        return count\n",
    "    \n",
    "    def display(self):\n",
    "        current=self.head\n",
    "        while current != None:\n",
    "            print(current.data)\n",
    "            current = current.getNext()\n",
    "        \n",
    "    def search(self,item):\n",
    "        temp=False\n",
    "        current=self.head\n",
    "        while current != None:\n",
    "            if current.data==item:\n",
    "                temp=True\n",
    "            current = current.getNext()\n",
    "        return temp\n",
    "    \n",
    "     def remove(self,item):\n",
    "        current = self.head\n",
    "        previous= None\n",
    "        found = False\n",
    "        while not found:\n",
    "            if current.getData()==item:\n",
    "                found = True\n",
    "            else:\n",
    "                previous=current\n",
    "                current=current.getNext()\n",
    "        if previous==None:\n",
    "            self.head=current.getNext()\n",
    "        else:\n",
    "            previous.setNext(current.getNext())\n",
    "            \n",
    "    def __str__(self):\n",
    "        current=self.head\n",
    "        temp=\"[\"\n",
    "        while current != None:\n",
    "            if len(temp)>2:\n",
    "                temp=temp+\",\"\n",
    "            temp=temp+str(current.data)\n",
    "            current = current.getNext()\n",
    "        temp=temp+\"]\"\n",
    "        return temp\n",
    "    \n",
    "    def __add__(self,lst):\n",
    "        a=self.head\n",
    "        b=lst.head\n",
    "        while a != None or b != None:\n",
    "            a.data=a.data+b.data\n",
    "            a = a.getNext()\n",
    "            b = b.getNext()\n",
    "        return LinkedList()"
   ]
  },
  {
   "cell_type": "code",
   "execution_count": 0,
   "metadata": {
    "collapsed": false
   },
   "outputs": [
   ],
   "source": [
    "myList=LinkedList()"
   ]
  },
  {
   "cell_type": "code",
   "execution_count": 0,
   "metadata": {
    "collapsed": false
   },
   "outputs": [
   ],
   "source": [
    "myList.add(34)\n",
    "print(myList.head)"
   ]
  },
  {
   "cell_type": "code",
   "execution_count": 0,
   "metadata": {
    "collapsed": false
   },
   "outputs": [
   ],
   "source": [
    "myList.add(45)\n",
    "print(myList.head)\n",
    "print(myList.head.data)"
   ]
  },
  {
   "cell_type": "code",
   "execution_count": 0,
   "metadata": {
    "collapsed": false
   },
   "outputs": [
   ],
   "source": [
    "myList.display()"
   ]
  },
  {
   "cell_type": "code",
   "execution_count": 0,
   "metadata": {
    "collapsed": false
   },
   "outputs": [
   ],
   "source": [
    "print(myList)"
   ]
  },
  {
   "cell_type": "code",
   "execution_count": 0,
   "metadata": {
    "collapsed": false
   },
   "outputs": [
   ],
   "source": [
    "myList.search(12)"
   ]
  },
  {
   "cell_type": "code",
   "execution_count": 0,
   "metadata": {
    "collapsed": false
   },
   "outputs": [
   ],
   "source": [
    "myList.size()"
   ]
  },
  {
   "cell_type": "markdown",
   "metadata": {
    "collapsed": false
   },
   "source": [
    "## Traversal Linked List\n",
    "untuk mengetahui ukuran dari list, diperlukan tahapan **Traverse**\n",
    "**Traverse**= menelusuri setiap node pd linked list\n",
    "membutuhkan pointed tambahan (current) karena head tidak boleh dipindah selama pengecekan.\n",
    "current berjalan pada setiap node hingga null."
   ]
  },
  {
   "cell_type": "markdown",
   "metadata": {
    "collapsed": false
   },
   "source": [
    "## Penghapusan Data\n",
    "membutuhkan 2 pointer \n",
    "-Current (menunjukkan node saat itu)\n",
    "-Previous (menunjukkan node sebelum current)"
   ]
  }
 ],
 "metadata": {
  "kernelspec": {
   "display_name": "Python 3 (Ubuntu Linux)",
   "language": "python",
   "name": "python3"
  },
  "language_info": {
   "codemirror_mode": {
    "name": "ipython",
    "version": 3
   },
   "file_extension": ".py",
   "mimetype": "text/x-python",
   "name": "python",
   "nbconvert_exporter": "python",
   "pygments_lexer": "ipython3",
   "version": "3.6.7"
  }
 },
 "nbformat": 4,
 "nbformat_minor": 0
}