{
 "cells": [
  {
   "cell_type": "markdown",
   "metadata": {
    "collapsed": false
   },
   "source": [
    "## **QUEUE** (Antrean)\n",
    "Queue adalah struktur data yg keduaz setelah stack. \n",
    "konsep nya adalah FIFO(First In First Out) :\n",
    "-ujung depan atau list paling depan adalah Front\n",
    "-ujung ahir atau list paling belakang adalah rear\n",
    "-operasi enQueue berfungsi menambah data\n",
    "-operasi deQueue berfungsi delete data\n",
    "\n",
    "**implementasi Queue :**"
   ]
  },
  {
   "cell_type": "code",
   "execution_count": 8,
   "metadata": {
    "collapsed": false
   },
   "outputs": [
   ],
   "source": [
    "def createQueue():\n",
    "    q=[]\n",
    "    return (q)\n",
    "\n",
    "def enQueue(q, data):\n",
    "    q.insert(0, data)\n",
    "    return (q)\n",
    "\n",
    "def deQueue(q):\n",
    "    data=q.pop()\n",
    "    return (data)\n",
    "\n",
    "def isEmpty(q):\n",
    "    return (q==[])\n",
    "\n",
    "def size (q):\n",
    "    return (len(q))"
   ]
  },
  {
   "cell_type": "code",
   "execution_count": 9,
   "metadata": {
    "cocalc": {
     "outputs": {
      "0": {
       "name": "input",
       "opts": {
        "password": false,
        "prompt": "Masukkan jumlah hitungan :"
       },
       "output_type": "stream"
      }
     }
    },
    "collapsed": false
   },
   "outputs": [
    {
     "name": "stdout",
     "output_type": "stream",
     "text": "Masukkan jumlah hitungan : "
    }
   ],
   "source": [
    "#contoh penggunaan Queue untuk permainan ular tangga :\n",
    "def ularnaga(q,num):\n",
    "    print(q)\n",
    "    while not(isEmpty(q)) and (size(q)!=1):\n",
    "        for i in range(num) :\n",
    "            data=deQueue(q)\n",
    "            enQueue(q, data)\n",
    "            print(q)\n",
    "        print('yang keluar=', deQueue(q))\n",
    "    print('sisa', deQueue(q))\n",
    "#------------------------------------------------------#\n",
    "q=['A','B','C','D']\n",
    "b=int(input(\"Masukkan jumlah hitungan :\"))\n",
    "ularnaga(q,b)"
   ]
  },
  {
   "cell_type": "markdown",
   "metadata": {
    "collapsed": false
   },
   "source": [
    "## **Deque**\n",
    "\n",
    "deque() -> inisialisasi deque yang kosong\n",
    "addFront(data) -> penambahan data di bagian Front\n",
    "addRear(data) -> penambahan data dibagian Rear\n",
    "removeRear() -> menghapus data dibagian Rear\n",
    "removeFront() -> menghapus data di bagian Front\n",
    "isEmpty() -> melakukan pengecekan deque kosong atau tidak\n",
    "size() -> informasi jumlah data\n",
    "\n",
    "**implementasi deque**"
   ]
  },
  {
   "cell_type": "code",
   "execution_count": 0,
   "metadata": {
    "collapsed": false
   },
   "outputs": [
   ],
   "source": [
    "def deque():\n",
    "    d=[]\n",
    "    return(d)\n",
    "def addFront(d, data) :\n",
    "    d.insert(0, data)\n",
    "    return(d)\n",
    "def addRear(d, data):\n",
    "    d.append(data)\n",
    "    return(d)\n",
    "def removeRear(d):\n",
    "    data=d.pop()\n",
    "    return(data)\n",
    "def removeFront(d):\n",
    "    data=d.pop(0)\n",
    "    return(data)\n",
    "def isEmpty(d):\n",
    "    return(d==[])\n",
    "def size(d):\n",
    "    return(len(d))"
   ]
  },
  {
   "cell_type": "code",
   "execution_count": 0,
   "metadata": {
    "collapsed": false
   },
   "outputs": [
   ],
   "source": [
   ]
  }
 ],
 "metadata": {
  "kernelspec": {
   "display_name": "Python 3 (Ubuntu Linux)",
   "language": "python",
   "name": "python3"
  },
  "language_info": {
   "codemirror_mode": {
    "name": "ipython",
    "version": 3
   },
   "file_extension": ".py",
   "mimetype": "text/x-python",
   "name": "python",
   "nbconvert_exporter": "python",
   "pygments_lexer": "ipython3",
   "version": "3.6.7"
  }
 },
 "nbformat": 4,
 "nbformat_minor": 0
}